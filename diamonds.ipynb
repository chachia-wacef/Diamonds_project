{
 "cells": [
  {
   "cell_type": "code",
   "execution_count": 1,
   "metadata": {},
   "outputs": [],
   "source": [
    "import numpy as np\n",
    "import pandas as pd"
   ]
  },
  {
   "cell_type": "code",
   "execution_count": 2,
   "metadata": {},
   "outputs": [],
   "source": [
    "import matplotlib.pyplot as plt\n",
    "import seaborn as sns"
   ]
  },
  {
   "cell_type": "code",
   "execution_count": 3,
   "metadata": {},
   "outputs": [],
   "source": [
    "df = pd.read_csv('C:\\\\Users\\\\hp\\\\Desktop\\\\MLDeep projects data\\\\diamonds\\\\diamonds.csv')"
   ]
  },
  {
   "cell_type": "code",
   "execution_count": 4,
   "metadata": {},
   "outputs": [
    {
     "data": {
      "text/html": [
       "<div>\n",
       "<style scoped>\n",
       "    .dataframe tbody tr th:only-of-type {\n",
       "        vertical-align: middle;\n",
       "    }\n",
       "\n",
       "    .dataframe tbody tr th {\n",
       "        vertical-align: top;\n",
       "    }\n",
       "\n",
       "    .dataframe thead th {\n",
       "        text-align: right;\n",
       "    }\n",
       "</style>\n",
       "<table border=\"1\" class=\"dataframe\">\n",
       "  <thead>\n",
       "    <tr style=\"text-align: right;\">\n",
       "      <th></th>\n",
       "      <th>Unnamed: 0</th>\n",
       "      <th>carat</th>\n",
       "      <th>cut</th>\n",
       "      <th>color</th>\n",
       "      <th>clarity</th>\n",
       "      <th>depth</th>\n",
       "      <th>table</th>\n",
       "      <th>price</th>\n",
       "      <th>x</th>\n",
       "      <th>y</th>\n",
       "      <th>z</th>\n",
       "    </tr>\n",
       "  </thead>\n",
       "  <tbody>\n",
       "    <tr>\n",
       "      <th>0</th>\n",
       "      <td>1</td>\n",
       "      <td>0.23</td>\n",
       "      <td>Ideal</td>\n",
       "      <td>E</td>\n",
       "      <td>SI2</td>\n",
       "      <td>61.5</td>\n",
       "      <td>55.0</td>\n",
       "      <td>326</td>\n",
       "      <td>3.95</td>\n",
       "      <td>3.98</td>\n",
       "      <td>2.43</td>\n",
       "    </tr>\n",
       "    <tr>\n",
       "      <th>1</th>\n",
       "      <td>2</td>\n",
       "      <td>0.21</td>\n",
       "      <td>Premium</td>\n",
       "      <td>E</td>\n",
       "      <td>SI1</td>\n",
       "      <td>59.8</td>\n",
       "      <td>61.0</td>\n",
       "      <td>326</td>\n",
       "      <td>3.89</td>\n",
       "      <td>3.84</td>\n",
       "      <td>2.31</td>\n",
       "    </tr>\n",
       "    <tr>\n",
       "      <th>2</th>\n",
       "      <td>3</td>\n",
       "      <td>0.23</td>\n",
       "      <td>Good</td>\n",
       "      <td>E</td>\n",
       "      <td>VS1</td>\n",
       "      <td>56.9</td>\n",
       "      <td>65.0</td>\n",
       "      <td>327</td>\n",
       "      <td>4.05</td>\n",
       "      <td>4.07</td>\n",
       "      <td>2.31</td>\n",
       "    </tr>\n",
       "    <tr>\n",
       "      <th>3</th>\n",
       "      <td>4</td>\n",
       "      <td>0.29</td>\n",
       "      <td>Premium</td>\n",
       "      <td>I</td>\n",
       "      <td>VS2</td>\n",
       "      <td>62.4</td>\n",
       "      <td>58.0</td>\n",
       "      <td>334</td>\n",
       "      <td>4.20</td>\n",
       "      <td>4.23</td>\n",
       "      <td>2.63</td>\n",
       "    </tr>\n",
       "    <tr>\n",
       "      <th>4</th>\n",
       "      <td>5</td>\n",
       "      <td>0.31</td>\n",
       "      <td>Good</td>\n",
       "      <td>J</td>\n",
       "      <td>SI2</td>\n",
       "      <td>63.3</td>\n",
       "      <td>58.0</td>\n",
       "      <td>335</td>\n",
       "      <td>4.34</td>\n",
       "      <td>4.35</td>\n",
       "      <td>2.75</td>\n",
       "    </tr>\n",
       "  </tbody>\n",
       "</table>\n",
       "</div>"
      ],
      "text/plain": [
       "   Unnamed: 0  carat      cut color clarity  depth  table  price     x     y  \\\n",
       "0           1   0.23    Ideal     E     SI2   61.5   55.0    326  3.95  3.98   \n",
       "1           2   0.21  Premium     E     SI1   59.8   61.0    326  3.89  3.84   \n",
       "2           3   0.23     Good     E     VS1   56.9   65.0    327  4.05  4.07   \n",
       "3           4   0.29  Premium     I     VS2   62.4   58.0    334  4.20  4.23   \n",
       "4           5   0.31     Good     J     SI2   63.3   58.0    335  4.34  4.35   \n",
       "\n",
       "      z  \n",
       "0  2.43  \n",
       "1  2.31  \n",
       "2  2.31  \n",
       "3  2.63  \n",
       "4  2.75  "
      ]
     },
     "execution_count": 4,
     "metadata": {},
     "output_type": "execute_result"
    }
   ],
   "source": [
    "df.head()"
   ]
  },
  {
   "cell_type": "code",
   "execution_count": 5,
   "metadata": {},
   "outputs": [
    {
     "data": {
      "text/html": [
       "<div>\n",
       "<style scoped>\n",
       "    .dataframe tbody tr th:only-of-type {\n",
       "        vertical-align: middle;\n",
       "    }\n",
       "\n",
       "    .dataframe tbody tr th {\n",
       "        vertical-align: top;\n",
       "    }\n",
       "\n",
       "    .dataframe thead th {\n",
       "        text-align: right;\n",
       "    }\n",
       "</style>\n",
       "<table border=\"1\" class=\"dataframe\">\n",
       "  <thead>\n",
       "    <tr style=\"text-align: right;\">\n",
       "      <th></th>\n",
       "      <th>Unnamed: 0</th>\n",
       "      <th>carat</th>\n",
       "      <th>cut</th>\n",
       "      <th>color</th>\n",
       "      <th>clarity</th>\n",
       "      <th>depth</th>\n",
       "      <th>table</th>\n",
       "      <th>price</th>\n",
       "      <th>x</th>\n",
       "      <th>y</th>\n",
       "      <th>z</th>\n",
       "    </tr>\n",
       "  </thead>\n",
       "  <tbody>\n",
       "    <tr>\n",
       "      <th>53935</th>\n",
       "      <td>53936</td>\n",
       "      <td>0.72</td>\n",
       "      <td>Ideal</td>\n",
       "      <td>D</td>\n",
       "      <td>SI1</td>\n",
       "      <td>60.8</td>\n",
       "      <td>57.0</td>\n",
       "      <td>2757</td>\n",
       "      <td>5.75</td>\n",
       "      <td>5.76</td>\n",
       "      <td>3.50</td>\n",
       "    </tr>\n",
       "    <tr>\n",
       "      <th>53936</th>\n",
       "      <td>53937</td>\n",
       "      <td>0.72</td>\n",
       "      <td>Good</td>\n",
       "      <td>D</td>\n",
       "      <td>SI1</td>\n",
       "      <td>63.1</td>\n",
       "      <td>55.0</td>\n",
       "      <td>2757</td>\n",
       "      <td>5.69</td>\n",
       "      <td>5.75</td>\n",
       "      <td>3.61</td>\n",
       "    </tr>\n",
       "    <tr>\n",
       "      <th>53937</th>\n",
       "      <td>53938</td>\n",
       "      <td>0.70</td>\n",
       "      <td>Very Good</td>\n",
       "      <td>D</td>\n",
       "      <td>SI1</td>\n",
       "      <td>62.8</td>\n",
       "      <td>60.0</td>\n",
       "      <td>2757</td>\n",
       "      <td>5.66</td>\n",
       "      <td>5.68</td>\n",
       "      <td>3.56</td>\n",
       "    </tr>\n",
       "    <tr>\n",
       "      <th>53938</th>\n",
       "      <td>53939</td>\n",
       "      <td>0.86</td>\n",
       "      <td>Premium</td>\n",
       "      <td>H</td>\n",
       "      <td>SI2</td>\n",
       "      <td>61.0</td>\n",
       "      <td>58.0</td>\n",
       "      <td>2757</td>\n",
       "      <td>6.15</td>\n",
       "      <td>6.12</td>\n",
       "      <td>3.74</td>\n",
       "    </tr>\n",
       "    <tr>\n",
       "      <th>53939</th>\n",
       "      <td>53940</td>\n",
       "      <td>0.75</td>\n",
       "      <td>Ideal</td>\n",
       "      <td>D</td>\n",
       "      <td>SI2</td>\n",
       "      <td>62.2</td>\n",
       "      <td>55.0</td>\n",
       "      <td>2757</td>\n",
       "      <td>5.83</td>\n",
       "      <td>5.87</td>\n",
       "      <td>3.64</td>\n",
       "    </tr>\n",
       "  </tbody>\n",
       "</table>\n",
       "</div>"
      ],
      "text/plain": [
       "       Unnamed: 0  carat        cut color clarity  depth  table  price     x  \\\n",
       "53935       53936   0.72      Ideal     D     SI1   60.8   57.0   2757  5.75   \n",
       "53936       53937   0.72       Good     D     SI1   63.1   55.0   2757  5.69   \n",
       "53937       53938   0.70  Very Good     D     SI1   62.8   60.0   2757  5.66   \n",
       "53938       53939   0.86    Premium     H     SI2   61.0   58.0   2757  6.15   \n",
       "53939       53940   0.75      Ideal     D     SI2   62.2   55.0   2757  5.83   \n",
       "\n",
       "          y     z  \n",
       "53935  5.76  3.50  \n",
       "53936  5.75  3.61  \n",
       "53937  5.68  3.56  \n",
       "53938  6.12  3.74  \n",
       "53939  5.87  3.64  "
      ]
     },
     "execution_count": 5,
     "metadata": {},
     "output_type": "execute_result"
    }
   ],
   "source": [
    "df.tail()"
   ]
  },
  {
   "cell_type": "code",
   "execution_count": 6,
   "metadata": {},
   "outputs": [],
   "source": [
    "#on remarque que x , y ,z sont les dimensions des piéces de diamonds"
   ]
  },
  {
   "cell_type": "code",
   "execution_count": 7,
   "metadata": {},
   "outputs": [],
   "source": [
    "#la colonne 'Unnamed : 0' est unutile donc on va le supprimer"
   ]
  },
  {
   "cell_type": "code",
   "execution_count": 8,
   "metadata": {},
   "outputs": [],
   "source": [
    "df = df.drop(['Unnamed: 0'], axis =1)"
   ]
  },
  {
   "cell_type": "code",
   "execution_count": 9,
   "metadata": {},
   "outputs": [
    {
     "data": {
      "text/html": [
       "<div>\n",
       "<style scoped>\n",
       "    .dataframe tbody tr th:only-of-type {\n",
       "        vertical-align: middle;\n",
       "    }\n",
       "\n",
       "    .dataframe tbody tr th {\n",
       "        vertical-align: top;\n",
       "    }\n",
       "\n",
       "    .dataframe thead th {\n",
       "        text-align: right;\n",
       "    }\n",
       "</style>\n",
       "<table border=\"1\" class=\"dataframe\">\n",
       "  <thead>\n",
       "    <tr style=\"text-align: right;\">\n",
       "      <th></th>\n",
       "      <th>carat</th>\n",
       "      <th>depth</th>\n",
       "      <th>table</th>\n",
       "      <th>price</th>\n",
       "      <th>x</th>\n",
       "      <th>y</th>\n",
       "      <th>z</th>\n",
       "    </tr>\n",
       "  </thead>\n",
       "  <tbody>\n",
       "    <tr>\n",
       "      <th>count</th>\n",
       "      <td>53940.000000</td>\n",
       "      <td>53940.000000</td>\n",
       "      <td>53940.000000</td>\n",
       "      <td>53940.000000</td>\n",
       "      <td>53940.000000</td>\n",
       "      <td>53940.000000</td>\n",
       "      <td>53940.000000</td>\n",
       "    </tr>\n",
       "    <tr>\n",
       "      <th>mean</th>\n",
       "      <td>0.797940</td>\n",
       "      <td>61.749405</td>\n",
       "      <td>57.457184</td>\n",
       "      <td>3932.799722</td>\n",
       "      <td>5.731157</td>\n",
       "      <td>5.734526</td>\n",
       "      <td>3.538734</td>\n",
       "    </tr>\n",
       "    <tr>\n",
       "      <th>std</th>\n",
       "      <td>0.474011</td>\n",
       "      <td>1.432621</td>\n",
       "      <td>2.234491</td>\n",
       "      <td>3989.439738</td>\n",
       "      <td>1.121761</td>\n",
       "      <td>1.142135</td>\n",
       "      <td>0.705699</td>\n",
       "    </tr>\n",
       "    <tr>\n",
       "      <th>min</th>\n",
       "      <td>0.200000</td>\n",
       "      <td>43.000000</td>\n",
       "      <td>43.000000</td>\n",
       "      <td>326.000000</td>\n",
       "      <td>0.000000</td>\n",
       "      <td>0.000000</td>\n",
       "      <td>0.000000</td>\n",
       "    </tr>\n",
       "    <tr>\n",
       "      <th>25%</th>\n",
       "      <td>0.400000</td>\n",
       "      <td>61.000000</td>\n",
       "      <td>56.000000</td>\n",
       "      <td>950.000000</td>\n",
       "      <td>4.710000</td>\n",
       "      <td>4.720000</td>\n",
       "      <td>2.910000</td>\n",
       "    </tr>\n",
       "    <tr>\n",
       "      <th>50%</th>\n",
       "      <td>0.700000</td>\n",
       "      <td>61.800000</td>\n",
       "      <td>57.000000</td>\n",
       "      <td>2401.000000</td>\n",
       "      <td>5.700000</td>\n",
       "      <td>5.710000</td>\n",
       "      <td>3.530000</td>\n",
       "    </tr>\n",
       "    <tr>\n",
       "      <th>75%</th>\n",
       "      <td>1.040000</td>\n",
       "      <td>62.500000</td>\n",
       "      <td>59.000000</td>\n",
       "      <td>5324.250000</td>\n",
       "      <td>6.540000</td>\n",
       "      <td>6.540000</td>\n",
       "      <td>4.040000</td>\n",
       "    </tr>\n",
       "    <tr>\n",
       "      <th>max</th>\n",
       "      <td>5.010000</td>\n",
       "      <td>79.000000</td>\n",
       "      <td>95.000000</td>\n",
       "      <td>18823.000000</td>\n",
       "      <td>10.740000</td>\n",
       "      <td>58.900000</td>\n",
       "      <td>31.800000</td>\n",
       "    </tr>\n",
       "  </tbody>\n",
       "</table>\n",
       "</div>"
      ],
      "text/plain": [
       "              carat         depth         table         price             x  \\\n",
       "count  53940.000000  53940.000000  53940.000000  53940.000000  53940.000000   \n",
       "mean       0.797940     61.749405     57.457184   3932.799722      5.731157   \n",
       "std        0.474011      1.432621      2.234491   3989.439738      1.121761   \n",
       "min        0.200000     43.000000     43.000000    326.000000      0.000000   \n",
       "25%        0.400000     61.000000     56.000000    950.000000      4.710000   \n",
       "50%        0.700000     61.800000     57.000000   2401.000000      5.700000   \n",
       "75%        1.040000     62.500000     59.000000   5324.250000      6.540000   \n",
       "max        5.010000     79.000000     95.000000  18823.000000     10.740000   \n",
       "\n",
       "                  y             z  \n",
       "count  53940.000000  53940.000000  \n",
       "mean       5.734526      3.538734  \n",
       "std        1.142135      0.705699  \n",
       "min        0.000000      0.000000  \n",
       "25%        4.720000      2.910000  \n",
       "50%        5.710000      3.530000  \n",
       "75%        6.540000      4.040000  \n",
       "max       58.900000     31.800000  "
      ]
     },
     "execution_count": 9,
     "metadata": {},
     "output_type": "execute_result"
    }
   ],
   "source": [
    "df.describe()"
   ]
  },
  {
   "cell_type": "code",
   "execution_count": 10,
   "metadata": {},
   "outputs": [
    {
     "name": "stdout",
     "output_type": "stream",
     "text": [
      "<class 'pandas.core.frame.DataFrame'>\n",
      "RangeIndex: 53940 entries, 0 to 53939\n",
      "Data columns (total 10 columns):\n",
      " #   Column   Non-Null Count  Dtype  \n",
      "---  ------   --------------  -----  \n",
      " 0   carat    53940 non-null  float64\n",
      " 1   cut      53940 non-null  object \n",
      " 2   color    53940 non-null  object \n",
      " 3   clarity  53940 non-null  object \n",
      " 4   depth    53940 non-null  float64\n",
      " 5   table    53940 non-null  float64\n",
      " 6   price    53940 non-null  int64  \n",
      " 7   x        53940 non-null  float64\n",
      " 8   y        53940 non-null  float64\n",
      " 9   z        53940 non-null  float64\n",
      "dtypes: float64(6), int64(1), object(3)\n",
      "memory usage: 4.1+ MB\n"
     ]
    }
   ],
   "source": [
    "df.info()"
   ]
  },
  {
   "cell_type": "code",
   "execution_count": 11,
   "metadata": {},
   "outputs": [
    {
     "data": {
      "text/plain": [
       "(53940, 10)"
      ]
     },
     "execution_count": 11,
     "metadata": {},
     "output_type": "execute_result"
    }
   ],
   "source": [
    "df.shape"
   ]
  },
  {
   "cell_type": "code",
   "execution_count": 12,
   "metadata": {},
   "outputs": [],
   "source": [
    "#on n'a pas des manques des valeurs"
   ]
  },
  {
   "cell_type": "code",
   "execution_count": 13,
   "metadata": {},
   "outputs": [],
   "source": [
    "#on va transformer tous les données en données numériques"
   ]
  },
  {
   "cell_type": "code",
   "execution_count": 14,
   "metadata": {},
   "outputs": [
    {
     "data": {
      "text/html": [
       "<div>\n",
       "<style scoped>\n",
       "    .dataframe tbody tr th:only-of-type {\n",
       "        vertical-align: middle;\n",
       "    }\n",
       "\n",
       "    .dataframe tbody tr th {\n",
       "        vertical-align: top;\n",
       "    }\n",
       "\n",
       "    .dataframe thead th {\n",
       "        text-align: right;\n",
       "    }\n",
       "</style>\n",
       "<table border=\"1\" class=\"dataframe\">\n",
       "  <thead>\n",
       "    <tr style=\"text-align: right;\">\n",
       "      <th></th>\n",
       "      <th>carat</th>\n",
       "      <th>cut</th>\n",
       "      <th>color</th>\n",
       "      <th>clarity</th>\n",
       "      <th>depth</th>\n",
       "      <th>table</th>\n",
       "      <th>price</th>\n",
       "      <th>x</th>\n",
       "      <th>y</th>\n",
       "      <th>z</th>\n",
       "    </tr>\n",
       "  </thead>\n",
       "  <tbody>\n",
       "    <tr>\n",
       "      <th>0</th>\n",
       "      <td>0.23</td>\n",
       "      <td>Ideal</td>\n",
       "      <td>E</td>\n",
       "      <td>SI2</td>\n",
       "      <td>61.5</td>\n",
       "      <td>55.0</td>\n",
       "      <td>326</td>\n",
       "      <td>3.95</td>\n",
       "      <td>3.98</td>\n",
       "      <td>2.43</td>\n",
       "    </tr>\n",
       "    <tr>\n",
       "      <th>1</th>\n",
       "      <td>0.21</td>\n",
       "      <td>Premium</td>\n",
       "      <td>E</td>\n",
       "      <td>SI1</td>\n",
       "      <td>59.8</td>\n",
       "      <td>61.0</td>\n",
       "      <td>326</td>\n",
       "      <td>3.89</td>\n",
       "      <td>3.84</td>\n",
       "      <td>2.31</td>\n",
       "    </tr>\n",
       "    <tr>\n",
       "      <th>2</th>\n",
       "      <td>0.23</td>\n",
       "      <td>Good</td>\n",
       "      <td>E</td>\n",
       "      <td>VS1</td>\n",
       "      <td>56.9</td>\n",
       "      <td>65.0</td>\n",
       "      <td>327</td>\n",
       "      <td>4.05</td>\n",
       "      <td>4.07</td>\n",
       "      <td>2.31</td>\n",
       "    </tr>\n",
       "    <tr>\n",
       "      <th>3</th>\n",
       "      <td>0.29</td>\n",
       "      <td>Premium</td>\n",
       "      <td>I</td>\n",
       "      <td>VS2</td>\n",
       "      <td>62.4</td>\n",
       "      <td>58.0</td>\n",
       "      <td>334</td>\n",
       "      <td>4.20</td>\n",
       "      <td>4.23</td>\n",
       "      <td>2.63</td>\n",
       "    </tr>\n",
       "    <tr>\n",
       "      <th>4</th>\n",
       "      <td>0.31</td>\n",
       "      <td>Good</td>\n",
       "      <td>J</td>\n",
       "      <td>SI2</td>\n",
       "      <td>63.3</td>\n",
       "      <td>58.0</td>\n",
       "      <td>335</td>\n",
       "      <td>4.34</td>\n",
       "      <td>4.35</td>\n",
       "      <td>2.75</td>\n",
       "    </tr>\n",
       "  </tbody>\n",
       "</table>\n",
       "</div>"
      ],
      "text/plain": [
       "   carat      cut color clarity  depth  table  price     x     y     z\n",
       "0   0.23    Ideal     E     SI2   61.5   55.0    326  3.95  3.98  2.43\n",
       "1   0.21  Premium     E     SI1   59.8   61.0    326  3.89  3.84  2.31\n",
       "2   0.23     Good     E     VS1   56.9   65.0    327  4.05  4.07  2.31\n",
       "3   0.29  Premium     I     VS2   62.4   58.0    334  4.20  4.23  2.63\n",
       "4   0.31     Good     J     SI2   63.3   58.0    335  4.34  4.35  2.75"
      ]
     },
     "execution_count": 14,
     "metadata": {},
     "output_type": "execute_result"
    }
   ],
   "source": [
    "df.head()"
   ]
  },
  {
   "cell_type": "code",
   "execution_count": 15,
   "metadata": {},
   "outputs": [
    {
     "data": {
      "text/plain": [
       "Ideal        21551\n",
       "Premium      13791\n",
       "Very Good    12082\n",
       "Good          4906\n",
       "Fair          1610\n",
       "Name: cut, dtype: int64"
      ]
     },
     "execution_count": 15,
     "metadata": {},
     "output_type": "execute_result"
    }
   ],
   "source": [
    "df['cut'].value_counts()"
   ]
  },
  {
   "cell_type": "code",
   "execution_count": 16,
   "metadata": {},
   "outputs": [],
   "source": [
    "df['cut'] = df['cut'].replace({'Fair' : 0 ,'Good' : 1 , 'Very Good' : 2 , 'Premium' : 3 , 'Ideal' : 4})"
   ]
  },
  {
   "cell_type": "code",
   "execution_count": 17,
   "metadata": {},
   "outputs": [
    {
     "data": {
      "text/plain": [
       "G    11292\n",
       "E     9797\n",
       "F     9542\n",
       "H     8304\n",
       "D     6775\n",
       "I     5422\n",
       "J     2808\n",
       "Name: color, dtype: int64"
      ]
     },
     "execution_count": 17,
     "metadata": {},
     "output_type": "execute_result"
    }
   ],
   "source": [
    "df['color'].value_counts()"
   ]
  },
  {
   "cell_type": "code",
   "execution_count": 18,
   "metadata": {},
   "outputs": [],
   "source": [
    "#les couleurs n'ont pas d'ordre donc on effectue a chaque couleur un numéro par hasard"
   ]
  },
  {
   "cell_type": "code",
   "execution_count": 19,
   "metadata": {},
   "outputs": [],
   "source": [
    "df['color'] = df['color'].replace({'G' : 0,'E' : 1,'F' : 2,'H' : 3,'D' : 4,'I' : 5,'J' : 6})"
   ]
  },
  {
   "cell_type": "code",
   "execution_count": 20,
   "metadata": {},
   "outputs": [
    {
     "data": {
      "text/plain": [
       "SI1     13065\n",
       "VS2     12258\n",
       "SI2      9194\n",
       "VS1      8171\n",
       "VVS2     5066\n",
       "VVS1     3655\n",
       "IF       1790\n",
       "I1        741\n",
       "Name: clarity, dtype: int64"
      ]
     },
     "execution_count": 20,
     "metadata": {},
     "output_type": "execute_result"
    }
   ],
   "source": [
    "df['clarity'].value_counts()"
   ]
  },
  {
   "cell_type": "code",
   "execution_count": 21,
   "metadata": {},
   "outputs": [],
   "source": [
    "df['clarity'] = df['clarity'].replace({'SI1' : 0,'VS2' : 1,'SI2' : 2,'VS1' : 3,'VVS2' : 4,'VVS1' : 5,'IF' : 6,'I1' : 7})"
   ]
  },
  {
   "cell_type": "code",
   "execution_count": 22,
   "metadata": {},
   "outputs": [
    {
     "data": {
      "text/html": [
       "<div>\n",
       "<style scoped>\n",
       "    .dataframe tbody tr th:only-of-type {\n",
       "        vertical-align: middle;\n",
       "    }\n",
       "\n",
       "    .dataframe tbody tr th {\n",
       "        vertical-align: top;\n",
       "    }\n",
       "\n",
       "    .dataframe thead th {\n",
       "        text-align: right;\n",
       "    }\n",
       "</style>\n",
       "<table border=\"1\" class=\"dataframe\">\n",
       "  <thead>\n",
       "    <tr style=\"text-align: right;\">\n",
       "      <th></th>\n",
       "      <th>carat</th>\n",
       "      <th>cut</th>\n",
       "      <th>color</th>\n",
       "      <th>clarity</th>\n",
       "      <th>depth</th>\n",
       "      <th>table</th>\n",
       "      <th>price</th>\n",
       "      <th>x</th>\n",
       "      <th>y</th>\n",
       "      <th>z</th>\n",
       "    </tr>\n",
       "  </thead>\n",
       "  <tbody>\n",
       "    <tr>\n",
       "      <th>0</th>\n",
       "      <td>0.23</td>\n",
       "      <td>4</td>\n",
       "      <td>1</td>\n",
       "      <td>2</td>\n",
       "      <td>61.5</td>\n",
       "      <td>55.0</td>\n",
       "      <td>326</td>\n",
       "      <td>3.95</td>\n",
       "      <td>3.98</td>\n",
       "      <td>2.43</td>\n",
       "    </tr>\n",
       "    <tr>\n",
       "      <th>1</th>\n",
       "      <td>0.21</td>\n",
       "      <td>3</td>\n",
       "      <td>1</td>\n",
       "      <td>0</td>\n",
       "      <td>59.8</td>\n",
       "      <td>61.0</td>\n",
       "      <td>326</td>\n",
       "      <td>3.89</td>\n",
       "      <td>3.84</td>\n",
       "      <td>2.31</td>\n",
       "    </tr>\n",
       "    <tr>\n",
       "      <th>2</th>\n",
       "      <td>0.23</td>\n",
       "      <td>1</td>\n",
       "      <td>1</td>\n",
       "      <td>3</td>\n",
       "      <td>56.9</td>\n",
       "      <td>65.0</td>\n",
       "      <td>327</td>\n",
       "      <td>4.05</td>\n",
       "      <td>4.07</td>\n",
       "      <td>2.31</td>\n",
       "    </tr>\n",
       "    <tr>\n",
       "      <th>3</th>\n",
       "      <td>0.29</td>\n",
       "      <td>3</td>\n",
       "      <td>5</td>\n",
       "      <td>1</td>\n",
       "      <td>62.4</td>\n",
       "      <td>58.0</td>\n",
       "      <td>334</td>\n",
       "      <td>4.20</td>\n",
       "      <td>4.23</td>\n",
       "      <td>2.63</td>\n",
       "    </tr>\n",
       "    <tr>\n",
       "      <th>4</th>\n",
       "      <td>0.31</td>\n",
       "      <td>1</td>\n",
       "      <td>6</td>\n",
       "      <td>2</td>\n",
       "      <td>63.3</td>\n",
       "      <td>58.0</td>\n",
       "      <td>335</td>\n",
       "      <td>4.34</td>\n",
       "      <td>4.35</td>\n",
       "      <td>2.75</td>\n",
       "    </tr>\n",
       "  </tbody>\n",
       "</table>\n",
       "</div>"
      ],
      "text/plain": [
       "   carat  cut  color  clarity  depth  table  price     x     y     z\n",
       "0   0.23    4      1        2   61.5   55.0    326  3.95  3.98  2.43\n",
       "1   0.21    3      1        0   59.8   61.0    326  3.89  3.84  2.31\n",
       "2   0.23    1      1        3   56.9   65.0    327  4.05  4.07  2.31\n",
       "3   0.29    3      5        1   62.4   58.0    334  4.20  4.23  2.63\n",
       "4   0.31    1      6        2   63.3   58.0    335  4.34  4.35  2.75"
      ]
     },
     "execution_count": 22,
     "metadata": {},
     "output_type": "execute_result"
    }
   ],
   "source": [
    "df.head()"
   ]
  },
  {
   "cell_type": "code",
   "execution_count": 23,
   "metadata": {},
   "outputs": [],
   "source": [
    "#on va plotter quelques relations"
   ]
  },
  {
   "cell_type": "code",
   "execution_count": 24,
   "metadata": {},
   "outputs": [],
   "source": [
    "plt.figsize = (50,30)"
   ]
  },
  {
   "cell_type": "code",
   "execution_count": 25,
   "metadata": {},
   "outputs": [
    {
     "data": {
      "text/plain": [
       "Text(0, 0.5, 'price')"
      ]
     },
     "execution_count": 25,
     "metadata": {},
     "output_type": "execute_result"
    },
    {
     "data": {
      "image/png": "[encoded data removed]",
      "text/plain": [
       "<Figure size 432x288 with 1 Axes>"
      ]
     },
     "metadata": {
      "needs_background": "light"
     },
     "output_type": "display_data"
    }
   ],
   "source": [
    "plt.scatter(df['clarity'],df['price'])\n",
    "plt.xlabel('color')\n",
    "plt.ylabel('price')"
   ]
  },
  {
   "cell_type": "code",
   "execution_count": 26,
   "metadata": {},
   "outputs": [
    {
     "data": {
      "text/plain": [
       "Text(0, 0.5, 'price')"
      ]
     },
     "execution_count": 26,
     "metadata": {},
     "output_type": "execute_result"
    },
    {
     "data": {
      "image/png": "[encoded data removed]",
      "text/plain": [
       "<Figure size 432x288 with 1 Axes>"
      ]
     },
     "metadata": {
      "needs_background": "light"
     },
     "output_type": "display_data"
    }
   ],
   "source": [
    "plt.scatter(df['carat'],df['price'])\n",
    "plt.xlabel('carat')\n",
    "plt.ylabel('price')"
   ]
  },
  {
   "cell_type": "code",
   "execution_count": 27,
   "metadata": {},
   "outputs": [
    {
     "data": {
      "text/plain": [
       "Text(0, 0.5, 'price')"
      ]
     },
     "execution_count": 27,
     "metadata": {},
     "output_type": "execute_result"
    },
    {
     "data": {
      "image/png": "[encoded data removed]",
      "text/plain": [
       "<Figure size 432x288 with 1 Axes>"
      ]
     },
     "metadata": {
      "needs_background": "light"
     },
     "output_type": "display_data"
    }
   ],
   "source": [
    "plt.scatter(df['table'],df['price'])\n",
    "plt.xlabel('table')\n",
    "plt.ylabel('price')"
   ]
  },
  {
   "cell_type": "code",
   "execution_count": 28,
   "metadata": {},
   "outputs": [
    {
     "data": {
      "text/plain": [
       "Text(0, 0.5, 'cut')"
      ]
     },
     "execution_count": 28,
     "metadata": {},
     "output_type": "execute_result"
    },
    {
     "data": {
      "image/png": "[encoded data removed]",
      "text/plain": [
       "<Figure size 432x288 with 1 Axes>"
      ]
     },
     "metadata": {
      "needs_background": "light"
     },
     "output_type": "display_data"
    }
   ],
   "source": [
    "plt.scatter(df['price'],df['cut'])\n",
    "plt.xlabel('price')\n",
    "plt.ylabel('cut')"
   ]
  },
  {
   "cell_type": "code",
   "execution_count": 29,
   "metadata": {},
   "outputs": [
    {
     "data": {
      "text/plain": [
       "Text(0, 0.5, 'price')"
      ]
     },
     "execution_count": 29,
     "metadata": {},
     "output_type": "execute_result"
    },
    {
     "data": {
      "image/png": "[encoded data removed]",
      "text/plain": [
       "<Figure size 432x288 with 1 Axes>"
      ]
     },
     "metadata": {
      "needs_background": "light"
     },
     "output_type": "display_data"
    }
   ],
   "source": [
    "plt.scatter(df['depth'],df['price'])\n",
    "plt.xlabel('depth')\n",
    "plt.ylabel('price')"
   ]
  },
  {
   "cell_type": "code",
   "execution_count": 30,
   "metadata": {},
   "outputs": [
    {
     "data": {
      "text/plain": [
       "Text(0, 0.5, 'color')"
      ]
     },
     "execution_count": 30,
     "metadata": {},
     "output_type": "execute_result"
    },
    {
     "data": {
      "image/png": "[encoded data removed]",
      "text/plain": [
       "<Figure size 432x288 with 1 Axes>"
      ]
     },
     "metadata": {
      "needs_background": "light"
     },
     "output_type": "display_data"
    }
   ],
   "source": [
    "plt.scatter(df['clarity'],df['color'])\n",
    "plt.xlabel('clarity')\n",
    "plt.ylabel('color')"
   ]
  },
  {
   "cell_type": "code",
   "execution_count": 31,
   "metadata": {},
   "outputs": [
    {
     "data": {
      "text/html": [
       "<style  type=\"text/css\" >\n",
       "    #T_2d433ed0_0f02_11eb_a875_88b11103c5f1row0_col0 {\n",
       "            background-color:  #b40426;\n",
       "            color:  #f1f1f1;\n",
       "        }    #T_2d433ed0_0f02_11eb_a875_88b11103c5f1row0_col1 {\n",
       "            background-color:  #7ea1fa;\n",
       "            color:  #000000;\n",
       "        }    #T_2d433ed0_0f02_11eb_a875_88b11103c5f1row0_col2 {\n",
       "            background-color:  #94b6ff;\n",
       "            color:  #000000;\n",
       "        }    #T_2d433ed0_0f02_11eb_a875_88b11103c5f1row0_col3 {\n",
       "            background-color:  #4055c8;\n",
       "            color:  #f1f1f1;\n",
       "        }    #T_2d433ed0_0f02_11eb_a875_88b11103c5f1row0_col4 {\n",
       "            background-color:  #8db0fe;\n",
       "            color:  #000000;\n",
       "        }    #T_2d433ed0_0f02_11eb_a875_88b11103c5f1row0_col5 {\n",
       "            background-color:  #c9d7f0;\n",
       "            color:  #000000;\n",
       "        }    #T_2d433ed0_0f02_11eb_a875_88b11103c5f1row0_col6 {\n",
       "            background-color:  #cd423b;\n",
       "            color:  #f1f1f1;\n",
       "        }    #T_2d433ed0_0f02_11eb_a875_88b11103c5f1row0_col7 {\n",
       "            background-color:  #bb1b2c;\n",
       "            color:  #f1f1f1;\n",
       "        }    #T_2d433ed0_0f02_11eb_a875_88b11103c5f1row0_col8 {\n",
       "            background-color:  #c32e31;\n",
       "            color:  #f1f1f1;\n",
       "        }    #T_2d433ed0_0f02_11eb_a875_88b11103c5f1row0_col9 {\n",
       "            background-color:  #c32e31;\n",
       "            color:  #f1f1f1;\n",
       "        }    #T_2d433ed0_0f02_11eb_a875_88b11103c5f1row1_col0 {\n",
       "            background-color:  #3f53c6;\n",
       "            color:  #f1f1f1;\n",
       "        }    #T_2d433ed0_0f02_11eb_a875_88b11103c5f1row1_col1 {\n",
       "            background-color:  #b40426;\n",
       "            color:  #f1f1f1;\n",
       "        }    #T_2d433ed0_0f02_11eb_a875_88b11103c5f1row1_col2 {\n",
       "            background-color:  #4e68d8;\n",
       "            color:  #000000;\n",
       "        }    #T_2d433ed0_0f02_11eb_a875_88b11103c5f1row1_col3 {\n",
       "            background-color:  #86a9fc;\n",
       "            color:  #000000;\n",
       "        }    #T_2d433ed0_0f02_11eb_a875_88b11103c5f1row1_col4 {\n",
       "            background-color:  #4c66d6;\n",
       "            color:  #000000;\n",
       "        }    #T_2d433ed0_0f02_11eb_a875_88b11103c5f1row1_col5 {\n",
       "            background-color:  #3b4cc0;\n",
       "            color:  #f1f1f1;\n",
       "        }    #T_2d433ed0_0f02_11eb_a875_88b11103c5f1row1_col6 {\n",
       "            background-color:  #4358cb;\n",
       "            color:  #f1f1f1;\n",
       "        }    #T_2d433ed0_0f02_11eb_a875_88b11103c5f1row1_col7 {\n",
       "            background-color:  #4961d2;\n",
       "            color:  #f1f1f1;\n",
       "        }    #T_2d433ed0_0f02_11eb_a875_88b11103c5f1row1_col8 {\n",
       "            background-color:  #485fd1;\n",
       "            color:  #f1f1f1;\n",
       "        }    #T_2d433ed0_0f02_11eb_a875_88b11103c5f1row1_col9 {\n",
       "            background-color:  #4257c9;\n",
       "            color:  #f1f1f1;\n",
       "        }    #T_2d433ed0_0f02_11eb_a875_88b11103c5f1row2_col0 {\n",
       "            background-color:  #9ebeff;\n",
       "            color:  #000000;\n",
       "        }    #T_2d433ed0_0f02_11eb_a875_88b11103c5f1row2_col1 {\n",
       "            background-color:  #96b7ff;\n",
       "            color:  #000000;\n",
       "        }    #T_2d433ed0_0f02_11eb_a875_88b11103c5f1row2_col2 {\n",
       "            background-color:  #b40426;\n",
       "            color:  #f1f1f1;\n",
       "        }    #T_2d433ed0_0f02_11eb_a875_88b11103c5f1row2_col3 {\n",
       "            background-color:  #4c66d6;\n",
       "            color:  #000000;\n",
       "        }    #T_2d433ed0_0f02_11eb_a875_88b11103c5f1row2_col4 {\n",
       "            background-color:  #8caffe;\n",
       "            color:  #000000;\n",
       "        }    #T_2d433ed0_0f02_11eb_a875_88b11103c5f1row2_col5 {\n",
       "            background-color:  #a9c6fd;\n",
       "            color:  #000000;\n",
       "        }    #T_2d433ed0_0f02_11eb_a875_88b11103c5f1row2_col6 {\n",
       "            background-color:  #6e90f2;\n",
       "            color:  #000000;\n",
       "        }    #T_2d433ed0_0f02_11eb_a875_88b11103c5f1row2_col7 {\n",
       "            background-color:  #9ebeff;\n",
       "            color:  #000000;\n",
       "        }    #T_2d433ed0_0f02_11eb_a875_88b11103c5f1row2_col8 {\n",
       "            background-color:  #9dbdff;\n",
       "            color:  #000000;\n",
       "        }    #T_2d433ed0_0f02_11eb_a875_88b11103c5f1row2_col9 {\n",
       "            background-color:  #9ebeff;\n",
       "            color:  #000000;\n",
       "        }    #T_2d433ed0_0f02_11eb_a875_88b11103c5f1row3_col0 {\n",
       "            background-color:  #3b4cc0;\n",
       "            color:  #f1f1f1;\n",
       "        }    #T_2d433ed0_0f02_11eb_a875_88b11103c5f1row3_col1 {\n",
       "            background-color:  #b6cefa;\n",
       "            color:  #000000;\n",
       "        }    #T_2d433ed0_0f02_11eb_a875_88b11103c5f1row3_col2 {\n",
       "            background-color:  #3b4cc0;\n",
       "            color:  #f1f1f1;\n",
       "        }    #T_2d433ed0_0f02_11eb_a875_88b11103c5f1row3_col3 {\n",
       "            background-color:  #b40426;\n",
       "            color:  #f1f1f1;\n",
       "        }    #T_2d433ed0_0f02_11eb_a875_88b11103c5f1row3_col4 {\n",
       "            background-color:  #7ea1fa;\n",
       "            color:  #000000;\n",
       "        }    #T_2d433ed0_0f02_11eb_a875_88b11103c5f1row3_col5 {\n",
       "            background-color:  #88abfd;\n",
       "            color:  #000000;\n",
       "        }    #T_2d433ed0_0f02_11eb_a875_88b11103c5f1row3_col6 {\n",
       "            background-color:  #3b4cc0;\n",
       "            color:  #f1f1f1;\n",
       "        }    #T_2d433ed0_0f02_11eb_a875_88b11103c5f1row3_col7 {\n",
       "            background-color:  #3b4cc0;\n",
       "            color:  #f1f1f1;\n",
       "        }    #T_2d433ed0_0f02_11eb_a875_88b11103c5f1row3_col8 {\n",
       "            background-color:  #3b4cc0;\n",
       "            color:  #f1f1f1;\n",
       "        }    #T_2d433ed0_0f02_11eb_a875_88b11103c5f1row3_col9 {\n",
       "            background-color:  #3b4cc0;\n",
       "            color:  #f1f1f1;\n",
       "        }    #T_2d433ed0_0f02_11eb_a875_88b11103c5f1row4_col0 {\n",
       "            background-color:  #6c8ff1;\n",
       "            color:  #000000;\n",
       "        }    #T_2d433ed0_0f02_11eb_a875_88b11103c5f1row4_col1 {\n",
       "            background-color:  #6a8bef;\n",
       "            color:  #000000;\n",
       "        }    #T_2d433ed0_0f02_11eb_a875_88b11103c5f1row4_col2 {\n",
       "            background-color:  #6180e9;\n",
       "            color:  #000000;\n",
       "        }    #T_2d433ed0_0f02_11eb_a875_88b11103c5f1row4_col3 {\n",
       "            background-color:  #6485ec;\n",
       "            color:  #000000;\n",
       "        }    #T_2d433ed0_0f02_11eb_a875_88b11103c5f1row4_col4 {\n",
       "            background-color:  #b40426;\n",
       "            color:  #f1f1f1;\n",
       "        }    #T_2d433ed0_0f02_11eb_a875_88b11103c5f1row4_col5 {\n",
       "            background-color:  #5875e1;\n",
       "            color:  #000000;\n",
       "        }    #T_2d433ed0_0f02_11eb_a875_88b11103c5f1row4_col6 {\n",
       "            background-color:  #4f69d9;\n",
       "            color:  #000000;\n",
       "        }    #T_2d433ed0_0f02_11eb_a875_88b11103c5f1row4_col7 {\n",
       "            background-color:  #6485ec;\n",
       "            color:  #000000;\n",
       "        }    #T_2d433ed0_0f02_11eb_a875_88b11103c5f1row4_col8 {\n",
       "            background-color:  #6282ea;\n",
       "            color:  #000000;\n",
       "        }    #T_2d433ed0_0f02_11eb_a875_88b11103c5f1row4_col9 {\n",
       "            background-color:  #86a9fc;\n",
       "            color:  #000000;\n",
       "        }    #T_2d433ed0_0f02_11eb_a875_88b11103c5f1row5_col0 {\n",
       "            background-color:  #9bbcff;\n",
       "            color:  #000000;\n",
       "        }    #T_2d433ed0_0f02_11eb_a875_88b11103c5f1row5_col1 {\n",
       "            background-color:  #3b4cc0;\n",
       "            color:  #f1f1f1;\n",
       "        }    #T_2d433ed0_0f02_11eb_a875_88b11103c5f1row5_col2 {\n",
       "            background-color:  #6687ed;\n",
       "            color:  #000000;\n",
       "        }    #T_2d433ed0_0f02_11eb_a875_88b11103c5f1row5_col3 {\n",
       "            background-color:  #516ddb;\n",
       "            color:  #000000;\n",
       "        }    #T_2d433ed0_0f02_11eb_a875_88b11103c5f1row5_col4 {\n",
       "            background-color:  #3b4cc0;\n",
       "            color:  #f1f1f1;\n",
       "        }    #T_2d433ed0_0f02_11eb_a875_88b11103c5f1row5_col5 {\n",
       "            background-color:  #b40426;\n",
       "            color:  #f1f1f1;\n",
       "        }    #T_2d433ed0_0f02_11eb_a875_88b11103c5f1row5_col6 {\n",
       "            background-color:  #799cf8;\n",
       "            color:  #000000;\n",
       "        }    #T_2d433ed0_0f02_11eb_a875_88b11103c5f1row5_col7 {\n",
       "            background-color:  #a5c3fe;\n",
       "            color:  #000000;\n",
       "        }    #T_2d433ed0_0f02_11eb_a875_88b11103c5f1row5_col8 {\n",
       "            background-color:  #a1c0ff;\n",
       "            color:  #000000;\n",
       "        }    #T_2d433ed0_0f02_11eb_a875_88b11103c5f1row5_col9 {\n",
       "            background-color:  #97b8ff;\n",
       "            color:  #000000;\n",
       "        }    #T_2d433ed0_0f02_11eb_a875_88b11103c5f1row6_col0 {\n",
       "            background-color:  #cc403a;\n",
       "            color:  #f1f1f1;\n",
       "        }    #T_2d433ed0_0f02_11eb_a875_88b11103c5f1row6_col1 {\n",
       "            background-color:  #92b4fe;\n",
       "            color:  #000000;\n",
       "        }    #T_2d433ed0_0f02_11eb_a875_88b11103c5f1row6_col2 {\n",
       "            background-color:  #7597f6;\n",
       "            color:  #000000;\n",
       "        }    #T_2d433ed0_0f02_11eb_a875_88b11103c5f1row6_col3 {\n",
       "            background-color:  #5470de;\n",
       "            color:  #000000;\n",
       "        }    #T_2d433ed0_0f02_11eb_a875_88b11103c5f1row6_col4 {\n",
       "            background-color:  #82a6fb;\n",
       "            color:  #000000;\n",
       "        }    #T_2d433ed0_0f02_11eb_a875_88b11103c5f1row6_col5 {\n",
       "            background-color:  #bed2f6;\n",
       "            color:  #000000;\n",
       "        }    #T_2d433ed0_0f02_11eb_a875_88b11103c5f1row6_col6 {\n",
       "            background-color:  #b40426;\n",
       "            color:  #f1f1f1;\n",
       "        }    #T_2d433ed0_0f02_11eb_a875_88b11103c5f1row6_col7 {\n",
       "            background-color:  #d65244;\n",
       "            color:  #000000;\n",
       "        }    #T_2d433ed0_0f02_11eb_a875_88b11103c5f1row6_col8 {\n",
       "            background-color:  #da5a49;\n",
       "            color:  #000000;\n",
       "        }    #T_2d433ed0_0f02_11eb_a875_88b11103c5f1row6_col9 {\n",
       "            background-color:  #dc5d4a;\n",
       "            color:  #000000;\n",
       "        }    #T_2d433ed0_0f02_11eb_a875_88b11103c5f1row7_col0 {\n",
       "            background-color:  #bb1b2c;\n",
       "            color:  #f1f1f1;\n",
       "        }    #T_2d433ed0_0f02_11eb_a875_88b11103c5f1row7_col1 {\n",
       "            background-color:  #80a3fa;\n",
       "            color:  #000000;\n",
       "        }    #T_2d433ed0_0f02_11eb_a875_88b11103c5f1row7_col2 {\n",
       "            background-color:  #8fb1fe;\n",
       "            color:  #000000;\n",
       "        }    #T_2d433ed0_0f02_11eb_a875_88b11103c5f1row7_col3 {\n",
       "            background-color:  #3b4cc0;\n",
       "            color:  #f1f1f1;\n",
       "        }    #T_2d433ed0_0f02_11eb_a875_88b11103c5f1row7_col4 {\n",
       "            background-color:  #7ea1fa;\n",
       "            color:  #000000;\n",
       "        }    #T_2d433ed0_0f02_11eb_a875_88b11103c5f1row7_col5 {\n",
       "            background-color:  #ccd9ed;\n",
       "            color:  #000000;\n",
       "        }    #T_2d433ed0_0f02_11eb_a875_88b11103c5f1row7_col6 {\n",
       "            background-color:  #d85646;\n",
       "            color:  #000000;\n",
       "        }    #T_2d433ed0_0f02_11eb_a875_88b11103c5f1row7_col7 {\n",
       "            background-color:  #b40426;\n",
       "            color:  #f1f1f1;\n",
       "        }    #T_2d433ed0_0f02_11eb_a875_88b11103c5f1row7_col8 {\n",
       "            background-color:  #bb1b2c;\n",
       "            color:  #f1f1f1;\n",
       "        }    #T_2d433ed0_0f02_11eb_a875_88b11103c5f1row7_col9 {\n",
       "            background-color:  #bd1f2d;\n",
       "            color:  #f1f1f1;\n",
       "        }    #T_2d433ed0_0f02_11eb_a875_88b11103c5f1row8_col0 {\n",
       "            background-color:  #c32e31;\n",
       "            color:  #f1f1f1;\n",
       "        }    #T_2d433ed0_0f02_11eb_a875_88b11103c5f1row8_col1 {\n",
       "            background-color:  #81a4fb;\n",
       "            color:  #000000;\n",
       "        }    #T_2d433ed0_0f02_11eb_a875_88b11103c5f1row8_col2 {\n",
       "            background-color:  #8db0fe;\n",
       "            color:  #000000;\n",
       "        }    #T_2d433ed0_0f02_11eb_a875_88b11103c5f1row8_col3 {\n",
       "            background-color:  #3c4ec2;\n",
       "            color:  #f1f1f1;\n",
       "        }    #T_2d433ed0_0f02_11eb_a875_88b11103c5f1row8_col4 {\n",
       "            background-color:  #7da0f9;\n",
       "            color:  #000000;\n",
       "        }    #T_2d433ed0_0f02_11eb_a875_88b11103c5f1row8_col5 {\n",
       "            background-color:  #cad8ef;\n",
       "            color:  #000000;\n",
       "        }    #T_2d433ed0_0f02_11eb_a875_88b11103c5f1row8_col6 {\n",
       "            background-color:  #dd5f4b;\n",
       "            color:  #000000;\n",
       "        }    #T_2d433ed0_0f02_11eb_a875_88b11103c5f1row8_col7 {\n",
       "            background-color:  #bb1b2c;\n",
       "            color:  #f1f1f1;\n",
       "        }    #T_2d433ed0_0f02_11eb_a875_88b11103c5f1row8_col8 {\n",
       "            background-color:  #b40426;\n",
       "            color:  #f1f1f1;\n",
       "        }    #T_2d433ed0_0f02_11eb_a875_88b11103c5f1row8_col9 {\n",
       "            background-color:  #c32e31;\n",
       "            color:  #f1f1f1;\n",
       "        }    #T_2d433ed0_0f02_11eb_a875_88b11103c5f1row9_col0 {\n",
       "            background-color:  #c32e31;\n",
       "            color:  #f1f1f1;\n",
       "        }    #T_2d433ed0_0f02_11eb_a875_88b11103c5f1row9_col1 {\n",
       "            background-color:  #7a9df8;\n",
       "            color:  #000000;\n",
       "        }    #T_2d433ed0_0f02_11eb_a875_88b11103c5f1row9_col2 {\n",
       "            background-color:  #8db0fe;\n",
       "            color:  #000000;\n",
       "        }    #T_2d433ed0_0f02_11eb_a875_88b11103c5f1row9_col3 {\n",
       "            background-color:  #3b4cc0;\n",
       "            color:  #f1f1f1;\n",
       "        }    #T_2d433ed0_0f02_11eb_a875_88b11103c5f1row9_col4 {\n",
       "            background-color:  #9fbfff;\n",
       "            color:  #000000;\n",
       "        }    #T_2d433ed0_0f02_11eb_a875_88b11103c5f1row9_col5 {\n",
       "            background-color:  #c3d5f4;\n",
       "            color:  #000000;\n",
       "        }    #T_2d433ed0_0f02_11eb_a875_88b11103c5f1row9_col6 {\n",
       "            background-color:  #de614d;\n",
       "            color:  #000000;\n",
       "        }    #T_2d433ed0_0f02_11eb_a875_88b11103c5f1row9_col7 {\n",
       "            background-color:  #bd1f2d;\n",
       "            color:  #f1f1f1;\n",
       "        }    #T_2d433ed0_0f02_11eb_a875_88b11103c5f1row9_col8 {\n",
       "            background-color:  #c32e31;\n",
       "            color:  #f1f1f1;\n",
       "        }    #T_2d433ed0_0f02_11eb_a875_88b11103c5f1row9_col9 {\n",
       "            background-color:  #b40426;\n",
       "            color:  #f1f1f1;\n",
       "        }</style><table id=\"T_2d433ed0_0f02_11eb_a875_88b11103c5f1\" ><thead>    <tr>        <th class=\"blank level0\" ></th>        <th class=\"col_heading level0 col0\" >carat</th>        <th class=\"col_heading level0 col1\" >cut</th>        <th class=\"col_heading level0 col2\" >color</th>        <th class=\"col_heading level0 col3\" >clarity</th>        <th class=\"col_heading level0 col4\" >depth</th>        <th class=\"col_heading level0 col5\" >table</th>        <th class=\"col_heading level0 col6\" >price</th>        <th class=\"col_heading level0 col7\" >x</th>        <th class=\"col_heading level0 col8\" >y</th>        <th class=\"col_heading level0 col9\" >z</th>    </tr></thead><tbody>\n",
       "                <tr>\n",
       "                        <th id=\"T_2d433ed0_0f02_11eb_a875_88b11103c5f1level0_row0\" class=\"row_heading level0 row0\" >carat</th>\n",
       "                        <td id=\"T_2d433ed0_0f02_11eb_a875_88b11103c5f1row0_col0\" class=\"data row0 col0\" >1.000000</td>\n",
       "                        <td id=\"T_2d433ed0_0f02_11eb_a875_88b11103c5f1row0_col1\" class=\"data row0 col1\" >-0.134967</td>\n",
       "                        <td id=\"T_2d433ed0_0f02_11eb_a875_88b11103c5f1row0_col2\" class=\"data row0 col2\" >0.189889</td>\n",
       "                        <td id=\"T_2d433ed0_0f02_11eb_a875_88b11103c5f1row0_col3\" class=\"data row0 col3\" >-0.155192</td>\n",
       "                        <td id=\"T_2d433ed0_0f02_11eb_a875_88b11103c5f1row0_col4\" class=\"data row0 col4\" >0.028224</td>\n",
       "                        <td id=\"T_2d433ed0_0f02_11eb_a875_88b11103c5f1row0_col5\" class=\"data row0 col5\" >0.181618</td>\n",
       "                        <td id=\"T_2d433ed0_0f02_11eb_a875_88b11103c5f1row0_col6\" class=\"data row0 col6\" >0.921591</td>\n",
       "                        <td id=\"T_2d433ed0_0f02_11eb_a875_88b11103c5f1row0_col7\" class=\"data row0 col7\" >0.975094</td>\n",
       "                        <td id=\"T_2d433ed0_0f02_11eb_a875_88b11103c5f1row0_col8\" class=\"data row0 col8\" >0.951722</td>\n",
       "                        <td id=\"T_2d433ed0_0f02_11eb_a875_88b11103c5f1row0_col9\" class=\"data row0 col9\" >0.953387</td>\n",
       "            </tr>\n",
       "            <tr>\n",
       "                        <th id=\"T_2d433ed0_0f02_11eb_a875_88b11103c5f1level0_row1\" class=\"row_heading level0 row1\" >cut</th>\n",
       "                        <td id=\"T_2d433ed0_0f02_11eb_a875_88b11103c5f1row1_col0\" class=\"data row1 col0\" >-0.134967</td>\n",
       "                        <td id=\"T_2d433ed0_0f02_11eb_a875_88b11103c5f1row1_col1\" class=\"data row1 col1\" >1.000000</td>\n",
       "                        <td id=\"T_2d433ed0_0f02_11eb_a875_88b11103c5f1row1_col2\" class=\"data row1 col2\" >-0.038283</td>\n",
       "                        <td id=\"T_2d433ed0_0f02_11eb_a875_88b11103c5f1row1_col3\" class=\"data row1 col3\" >0.092976</td>\n",
       "                        <td id=\"T_2d433ed0_0f02_11eb_a875_88b11103c5f1row1_col4\" class=\"data row1 col4\" >-0.218055</td>\n",
       "                        <td id=\"T_2d433ed0_0f02_11eb_a875_88b11103c5f1row1_col5\" class=\"data row1 col5\" >-0.433405</td>\n",
       "                        <td id=\"T_2d433ed0_0f02_11eb_a875_88b11103c5f1row1_col6\" class=\"data row1 col6\" >-0.053491</td>\n",
       "                        <td id=\"T_2d433ed0_0f02_11eb_a875_88b11103c5f1row1_col7\" class=\"data row1 col7\" >-0.125565</td>\n",
       "                        <td id=\"T_2d433ed0_0f02_11eb_a875_88b11103c5f1row1_col8\" class=\"data row1 col8\" >-0.121462</td>\n",
       "                        <td id=\"T_2d433ed0_0f02_11eb_a875_88b11103c5f1row1_col9\" class=\"data row1 col9\" >-0.149323</td>\n",
       "            </tr>\n",
       "            <tr>\n",
       "                        <th id=\"T_2d433ed0_0f02_11eb_a875_88b11103c5f1level0_row2\" class=\"row_heading level0 row2\" >color</th>\n",
       "                        <td id=\"T_2d433ed0_0f02_11eb_a875_88b11103c5f1row2_col0\" class=\"data row2 col0\" >0.189889</td>\n",
       "                        <td id=\"T_2d433ed0_0f02_11eb_a875_88b11103c5f1row2_col1\" class=\"data row2 col1\" >-0.038283</td>\n",
       "                        <td id=\"T_2d433ed0_0f02_11eb_a875_88b11103c5f1row2_col2\" class=\"data row2 col2\" >1.000000</td>\n",
       "                        <td id=\"T_2d433ed0_0f02_11eb_a875_88b11103c5f1row2_col3\" class=\"data row2 col3\" >-0.109963</td>\n",
       "                        <td id=\"T_2d433ed0_0f02_11eb_a875_88b11103c5f1row2_col4\" class=\"data row2 col4\" >0.027283</td>\n",
       "                        <td id=\"T_2d433ed0_0f02_11eb_a875_88b11103c5f1row2_col5\" class=\"data row2 col5\" >0.041964</td>\n",
       "                        <td id=\"T_2d433ed0_0f02_11eb_a875_88b11103c5f1row2_col6\" class=\"data row2 col6\" >0.090951</td>\n",
       "                        <td id=\"T_2d433ed0_0f02_11eb_a875_88b11103c5f1row2_col7\" class=\"data row2 col7\" >0.172765</td>\n",
       "                        <td id=\"T_2d433ed0_0f02_11eb_a875_88b11103c5f1row2_col8\" class=\"data row2 col8\" >0.168454</td>\n",
       "                        <td id=\"T_2d433ed0_0f02_11eb_a875_88b11103c5f1row2_col9\" class=\"data row2 col9\" >0.171666</td>\n",
       "            </tr>\n",
       "            <tr>\n",
       "                        <th id=\"T_2d433ed0_0f02_11eb_a875_88b11103c5f1level0_row3\" class=\"row_heading level0 row3\" >clarity</th>\n",
       "                        <td id=\"T_2d433ed0_0f02_11eb_a875_88b11103c5f1row3_col0\" class=\"data row3 col0\" >-0.155192</td>\n",
       "                        <td id=\"T_2d433ed0_0f02_11eb_a875_88b11103c5f1row3_col1\" class=\"data row3 col1\" >0.092976</td>\n",
       "                        <td id=\"T_2d433ed0_0f02_11eb_a875_88b11103c5f1row3_col2\" class=\"data row3 col2\" >-0.109963</td>\n",
       "                        <td id=\"T_2d433ed0_0f02_11eb_a875_88b11103c5f1row3_col3\" class=\"data row3 col3\" >1.000000</td>\n",
       "                        <td id=\"T_2d433ed0_0f02_11eb_a875_88b11103c5f1row3_col4\" class=\"data row3 col4\" >-0.024337</td>\n",
       "                        <td id=\"T_2d433ed0_0f02_11eb_a875_88b11103c5f1row3_col5\" class=\"data row3 col5\" >-0.094350</td>\n",
       "                        <td id=\"T_2d433ed0_0f02_11eb_a875_88b11103c5f1row3_col6\" class=\"data row3 col6\" >-0.083125</td>\n",
       "                        <td id=\"T_2d433ed0_0f02_11eb_a875_88b11103c5f1row3_col7\" class=\"data row3 col7\" >-0.182734</td>\n",
       "                        <td id=\"T_2d433ed0_0f02_11eb_a875_88b11103c5f1row3_col8\" class=\"data row3 col8\" >-0.176540</td>\n",
       "                        <td id=\"T_2d433ed0_0f02_11eb_a875_88b11103c5f1row3_col9\" class=\"data row3 col9\" >-0.179684</td>\n",
       "            </tr>\n",
       "            <tr>\n",
       "                        <th id=\"T_2d433ed0_0f02_11eb_a875_88b11103c5f1level0_row4\" class=\"row_heading level0 row4\" >depth</th>\n",
       "                        <td id=\"T_2d433ed0_0f02_11eb_a875_88b11103c5f1row4_col0\" class=\"data row4 col0\" >0.028224</td>\n",
       "                        <td id=\"T_2d433ed0_0f02_11eb_a875_88b11103c5f1row4_col1\" class=\"data row4 col1\" >-0.218055</td>\n",
       "                        <td id=\"T_2d433ed0_0f02_11eb_a875_88b11103c5f1row4_col2\" class=\"data row4 col2\" >0.027283</td>\n",
       "                        <td id=\"T_2d433ed0_0f02_11eb_a875_88b11103c5f1row4_col3\" class=\"data row4 col3\" >-0.024337</td>\n",
       "                        <td id=\"T_2d433ed0_0f02_11eb_a875_88b11103c5f1row4_col4\" class=\"data row4 col4\" >1.000000</td>\n",
       "                        <td id=\"T_2d433ed0_0f02_11eb_a875_88b11103c5f1row4_col5\" class=\"data row4 col5\" >-0.295779</td>\n",
       "                        <td id=\"T_2d433ed0_0f02_11eb_a875_88b11103c5f1row4_col6\" class=\"data row4 col6\" >-0.010647</td>\n",
       "                        <td id=\"T_2d433ed0_0f02_11eb_a875_88b11103c5f1row4_col7\" class=\"data row4 col7\" >-0.025289</td>\n",
       "                        <td id=\"T_2d433ed0_0f02_11eb_a875_88b11103c5f1row4_col8\" class=\"data row4 col8\" >-0.029341</td>\n",
       "                        <td id=\"T_2d433ed0_0f02_11eb_a875_88b11103c5f1row4_col9\" class=\"data row4 col9\" >0.094924</td>\n",
       "            </tr>\n",
       "            <tr>\n",
       "                        <th id=\"T_2d433ed0_0f02_11eb_a875_88b11103c5f1level0_row5\" class=\"row_heading level0 row5\" >table</th>\n",
       "                        <td id=\"T_2d433ed0_0f02_11eb_a875_88b11103c5f1row5_col0\" class=\"data row5 col0\" >0.181618</td>\n",
       "                        <td id=\"T_2d433ed0_0f02_11eb_a875_88b11103c5f1row5_col1\" class=\"data row5 col1\" >-0.433405</td>\n",
       "                        <td id=\"T_2d433ed0_0f02_11eb_a875_88b11103c5f1row5_col2\" class=\"data row5 col2\" >0.041964</td>\n",
       "                        <td id=\"T_2d433ed0_0f02_11eb_a875_88b11103c5f1row5_col3\" class=\"data row5 col3\" >-0.094350</td>\n",
       "                        <td id=\"T_2d433ed0_0f02_11eb_a875_88b11103c5f1row5_col4\" class=\"data row5 col4\" >-0.295779</td>\n",
       "                        <td id=\"T_2d433ed0_0f02_11eb_a875_88b11103c5f1row5_col5\" class=\"data row5 col5\" >1.000000</td>\n",
       "                        <td id=\"T_2d433ed0_0f02_11eb_a875_88b11103c5f1row5_col6\" class=\"data row5 col6\" >0.127134</td>\n",
       "                        <td id=\"T_2d433ed0_0f02_11eb_a875_88b11103c5f1row5_col7\" class=\"data row5 col7\" >0.195344</td>\n",
       "                        <td id=\"T_2d433ed0_0f02_11eb_a875_88b11103c5f1row5_col8\" class=\"data row5 col8\" >0.183760</td>\n",
       "                        <td id=\"T_2d433ed0_0f02_11eb_a875_88b11103c5f1row5_col9\" class=\"data row5 col9\" >0.150929</td>\n",
       "            </tr>\n",
       "            <tr>\n",
       "                        <th id=\"T_2d433ed0_0f02_11eb_a875_88b11103c5f1level0_row6\" class=\"row_heading level0 row6\" >price</th>\n",
       "                        <td id=\"T_2d433ed0_0f02_11eb_a875_88b11103c5f1row6_col0\" class=\"data row6 col0\" >0.921591</td>\n",
       "                        <td id=\"T_2d433ed0_0f02_11eb_a875_88b11103c5f1row6_col1\" class=\"data row6 col1\" >-0.053491</td>\n",
       "                        <td id=\"T_2d433ed0_0f02_11eb_a875_88b11103c5f1row6_col2\" class=\"data row6 col2\" >0.090951</td>\n",
       "                        <td id=\"T_2d433ed0_0f02_11eb_a875_88b11103c5f1row6_col3\" class=\"data row6 col3\" >-0.083125</td>\n",
       "                        <td id=\"T_2d433ed0_0f02_11eb_a875_88b11103c5f1row6_col4\" class=\"data row6 col4\" >-0.010647</td>\n",
       "                        <td id=\"T_2d433ed0_0f02_11eb_a875_88b11103c5f1row6_col5\" class=\"data row6 col5\" >0.127134</td>\n",
       "                        <td id=\"T_2d433ed0_0f02_11eb_a875_88b11103c5f1row6_col6\" class=\"data row6 col6\" >1.000000</td>\n",
       "                        <td id=\"T_2d433ed0_0f02_11eb_a875_88b11103c5f1row6_col7\" class=\"data row6 col7\" >0.884435</td>\n",
       "                        <td id=\"T_2d433ed0_0f02_11eb_a875_88b11103c5f1row6_col8\" class=\"data row6 col8\" >0.865421</td>\n",
       "                        <td id=\"T_2d433ed0_0f02_11eb_a875_88b11103c5f1row6_col9\" class=\"data row6 col9\" >0.861249</td>\n",
       "            </tr>\n",
       "            <tr>\n",
       "                        <th id=\"T_2d433ed0_0f02_11eb_a875_88b11103c5f1level0_row7\" class=\"row_heading level0 row7\" >x</th>\n",
       "                        <td id=\"T_2d433ed0_0f02_11eb_a875_88b11103c5f1row7_col0\" class=\"data row7 col0\" >0.975094</td>\n",
       "                        <td id=\"T_2d433ed0_0f02_11eb_a875_88b11103c5f1row7_col1\" class=\"data row7 col1\" >-0.125565</td>\n",
       "                        <td id=\"T_2d433ed0_0f02_11eb_a875_88b11103c5f1row7_col2\" class=\"data row7 col2\" >0.172765</td>\n",
       "                        <td id=\"T_2d433ed0_0f02_11eb_a875_88b11103c5f1row7_col3\" class=\"data row7 col3\" >-0.182734</td>\n",
       "                        <td id=\"T_2d433ed0_0f02_11eb_a875_88b11103c5f1row7_col4\" class=\"data row7 col4\" >-0.025289</td>\n",
       "                        <td id=\"T_2d433ed0_0f02_11eb_a875_88b11103c5f1row7_col5\" class=\"data row7 col5\" >0.195344</td>\n",
       "                        <td id=\"T_2d433ed0_0f02_11eb_a875_88b11103c5f1row7_col6\" class=\"data row7 col6\" >0.884435</td>\n",
       "                        <td id=\"T_2d433ed0_0f02_11eb_a875_88b11103c5f1row7_col7\" class=\"data row7 col7\" >1.000000</td>\n",
       "                        <td id=\"T_2d433ed0_0f02_11eb_a875_88b11103c5f1row7_col8\" class=\"data row7 col8\" >0.974701</td>\n",
       "                        <td id=\"T_2d433ed0_0f02_11eb_a875_88b11103c5f1row7_col9\" class=\"data row7 col9\" >0.970772</td>\n",
       "            </tr>\n",
       "            <tr>\n",
       "                        <th id=\"T_2d433ed0_0f02_11eb_a875_88b11103c5f1level0_row8\" class=\"row_heading level0 row8\" >y</th>\n",
       "                        <td id=\"T_2d433ed0_0f02_11eb_a875_88b11103c5f1row8_col0\" class=\"data row8 col0\" >0.951722</td>\n",
       "                        <td id=\"T_2d433ed0_0f02_11eb_a875_88b11103c5f1row8_col1\" class=\"data row8 col1\" >-0.121462</td>\n",
       "                        <td id=\"T_2d433ed0_0f02_11eb_a875_88b11103c5f1row8_col2\" class=\"data row8 col2\" >0.168454</td>\n",
       "                        <td id=\"T_2d433ed0_0f02_11eb_a875_88b11103c5f1row8_col3\" class=\"data row8 col3\" >-0.176540</td>\n",
       "                        <td id=\"T_2d433ed0_0f02_11eb_a875_88b11103c5f1row8_col4\" class=\"data row8 col4\" >-0.029341</td>\n",
       "                        <td id=\"T_2d433ed0_0f02_11eb_a875_88b11103c5f1row8_col5\" class=\"data row8 col5\" >0.183760</td>\n",
       "                        <td id=\"T_2d433ed0_0f02_11eb_a875_88b11103c5f1row8_col6\" class=\"data row8 col6\" >0.865421</td>\n",
       "                        <td id=\"T_2d433ed0_0f02_11eb_a875_88b11103c5f1row8_col7\" class=\"data row8 col7\" >0.974701</td>\n",
       "                        <td id=\"T_2d433ed0_0f02_11eb_a875_88b11103c5f1row8_col8\" class=\"data row8 col8\" >1.000000</td>\n",
       "                        <td id=\"T_2d433ed0_0f02_11eb_a875_88b11103c5f1row8_col9\" class=\"data row8 col9\" >0.952006</td>\n",
       "            </tr>\n",
       "            <tr>\n",
       "                        <th id=\"T_2d433ed0_0f02_11eb_a875_88b11103c5f1level0_row9\" class=\"row_heading level0 row9\" >z</th>\n",
       "                        <td id=\"T_2d433ed0_0f02_11eb_a875_88b11103c5f1row9_col0\" class=\"data row9 col0\" >0.953387</td>\n",
       "                        <td id=\"T_2d433ed0_0f02_11eb_a875_88b11103c5f1row9_col1\" class=\"data row9 col1\" >-0.149323</td>\n",
       "                        <td id=\"T_2d433ed0_0f02_11eb_a875_88b11103c5f1row9_col2\" class=\"data row9 col2\" >0.171666</td>\n",
       "                        <td id=\"T_2d433ed0_0f02_11eb_a875_88b11103c5f1row9_col3\" class=\"data row9 col3\" >-0.179684</td>\n",
       "                        <td id=\"T_2d433ed0_0f02_11eb_a875_88b11103c5f1row9_col4\" class=\"data row9 col4\" >0.094924</td>\n",
       "                        <td id=\"T_2d433ed0_0f02_11eb_a875_88b11103c5f1row9_col5\" class=\"data row9 col5\" >0.150929</td>\n",
       "                        <td id=\"T_2d433ed0_0f02_11eb_a875_88b11103c5f1row9_col6\" class=\"data row9 col6\" >0.861249</td>\n",
       "                        <td id=\"T_2d433ed0_0f02_11eb_a875_88b11103c5f1row9_col7\" class=\"data row9 col7\" >0.970772</td>\n",
       "                        <td id=\"T_2d433ed0_0f02_11eb_a875_88b11103c5f1row9_col8\" class=\"data row9 col8\" >0.952006</td>\n",
       "                        <td id=\"T_2d433ed0_0f02_11eb_a875_88b11103c5f1row9_col9\" class=\"data row9 col9\" >1.000000</td>\n",
       "            </tr>\n",
       "    </tbody></table>"
      ],
      "text/plain": [
       "<pandas.io.formats.style.Styler at 0x1ceb22373c8>"
      ]
     },
     "execution_count": 31,
     "metadata": {},
     "output_type": "execute_result"
    }
   ],
   "source": [
    "corr = df.corr()\n",
    "corr.style.background_gradient(cmap='coolwarm')"
   ]
  },
  {
   "cell_type": "code",
   "execution_count": 32,
   "metadata": {},
   "outputs": [],
   "source": [
    "#parfait , on a des fortes corrélation entre quelques variables"
   ]
  },
  {
   "cell_type": "code",
   "execution_count": 33,
   "metadata": {},
   "outputs": [],
   "source": [
    "#notre objectif est de prédicter le 'price' donc on s'intéresse qui sont les variables qui influencent fortement sur le 'price'"
   ]
  },
  {
   "cell_type": "code",
   "execution_count": 34,
   "metadata": {},
   "outputs": [],
   "source": [
    "#ils sont : carat , x , y , zet plus moins : table"
   ]
  },
  {
   "cell_type": "code",
   "execution_count": 35,
   "metadata": {},
   "outputs": [],
   "source": [
    "#on va diviser le data "
   ]
  },
  {
   "cell_type": "code",
   "execution_count": 36,
   "metadata": {},
   "outputs": [],
   "source": [
    "x = df.drop(['price'],axis=1)"
   ]
  },
  {
   "cell_type": "code",
   "execution_count": 37,
   "metadata": {},
   "outputs": [],
   "source": [
    "y = df['price']"
   ]
  },
  {
   "cell_type": "code",
   "execution_count": 38,
   "metadata": {},
   "outputs": [],
   "source": [
    "from sklearn.model_selection import train_test_split"
   ]
  },
  {
   "cell_type": "code",
   "execution_count": 39,
   "metadata": {},
   "outputs": [],
   "source": [
    "#mais avant de spliter les données nous avons le normalizer pourq'uil soit dans le meme intervalle"
   ]
  },
  {
   "cell_type": "code",
   "execution_count": 40,
   "metadata": {},
   "outputs": [
    {
     "data": {
      "text/html": [
       "<div>\n",
       "<style scoped>\n",
       "    .dataframe tbody tr th:only-of-type {\n",
       "        vertical-align: middle;\n",
       "    }\n",
       "\n",
       "    .dataframe tbody tr th {\n",
       "        vertical-align: top;\n",
       "    }\n",
       "\n",
       "    .dataframe thead th {\n",
       "        text-align: right;\n",
       "    }\n",
       "</style>\n",
       "<table border=\"1\" class=\"dataframe\">\n",
       "  <thead>\n",
       "    <tr style=\"text-align: right;\">\n",
       "      <th></th>\n",
       "      <th>carat</th>\n",
       "      <th>cut</th>\n",
       "      <th>color</th>\n",
       "      <th>clarity</th>\n",
       "      <th>depth</th>\n",
       "      <th>table</th>\n",
       "      <th>x</th>\n",
       "      <th>y</th>\n",
       "      <th>z</th>\n",
       "    </tr>\n",
       "  </thead>\n",
       "  <tbody>\n",
       "    <tr>\n",
       "      <th>0</th>\n",
       "      <td>0.23</td>\n",
       "      <td>4</td>\n",
       "      <td>1</td>\n",
       "      <td>2</td>\n",
       "      <td>61.5</td>\n",
       "      <td>55.0</td>\n",
       "      <td>3.95</td>\n",
       "      <td>3.98</td>\n",
       "      <td>2.43</td>\n",
       "    </tr>\n",
       "    <tr>\n",
       "      <th>1</th>\n",
       "      <td>0.21</td>\n",
       "      <td>3</td>\n",
       "      <td>1</td>\n",
       "      <td>0</td>\n",
       "      <td>59.8</td>\n",
       "      <td>61.0</td>\n",
       "      <td>3.89</td>\n",
       "      <td>3.84</td>\n",
       "      <td>2.31</td>\n",
       "    </tr>\n",
       "    <tr>\n",
       "      <th>2</th>\n",
       "      <td>0.23</td>\n",
       "      <td>1</td>\n",
       "      <td>1</td>\n",
       "      <td>3</td>\n",
       "      <td>56.9</td>\n",
       "      <td>65.0</td>\n",
       "      <td>4.05</td>\n",
       "      <td>4.07</td>\n",
       "      <td>2.31</td>\n",
       "    </tr>\n",
       "    <tr>\n",
       "      <th>3</th>\n",
       "      <td>0.29</td>\n",
       "      <td>3</td>\n",
       "      <td>5</td>\n",
       "      <td>1</td>\n",
       "      <td>62.4</td>\n",
       "      <td>58.0</td>\n",
       "      <td>4.20</td>\n",
       "      <td>4.23</td>\n",
       "      <td>2.63</td>\n",
       "    </tr>\n",
       "    <tr>\n",
       "      <th>4</th>\n",
       "      <td>0.31</td>\n",
       "      <td>1</td>\n",
       "      <td>6</td>\n",
       "      <td>2</td>\n",
       "      <td>63.3</td>\n",
       "      <td>58.0</td>\n",
       "      <td>4.34</td>\n",
       "      <td>4.35</td>\n",
       "      <td>2.75</td>\n",
       "    </tr>\n",
       "  </tbody>\n",
       "</table>\n",
       "</div>"
      ],
      "text/plain": [
       "   carat  cut  color  clarity  depth  table     x     y     z\n",
       "0   0.23    4      1        2   61.5   55.0  3.95  3.98  2.43\n",
       "1   0.21    3      1        0   59.8   61.0  3.89  3.84  2.31\n",
       "2   0.23    1      1        3   56.9   65.0  4.05  4.07  2.31\n",
       "3   0.29    3      5        1   62.4   58.0  4.20  4.23  2.63\n",
       "4   0.31    1      6        2   63.3   58.0  4.34  4.35  2.75"
      ]
     },
     "execution_count": 40,
     "metadata": {},
     "output_type": "execute_result"
    }
   ],
   "source": [
    "x.head()"
   ]
  },
  {
   "cell_type": "code",
   "execution_count": 41,
   "metadata": {},
   "outputs": [],
   "source": [
    "from sklearn.preprocessing import MinMaxScaler"
   ]
  },
  {
   "cell_type": "code",
   "execution_count": 42,
   "metadata": {},
   "outputs": [],
   "source": [
    "scaler = MinMaxScaler() "
   ]
  },
  {
   "cell_type": "code",
   "execution_count": 43,
   "metadata": {},
   "outputs": [],
   "source": [
    "scaled_values = scaler.fit_transform(x) \n",
    "x.loc[:,:] = scaled_values"
   ]
  },
  {
   "cell_type": "code",
   "execution_count": 44,
   "metadata": {},
   "outputs": [
    {
     "data": {
      "text/html": [
       "<div>\n",
       "<style scoped>\n",
       "    .dataframe tbody tr th:only-of-type {\n",
       "        vertical-align: middle;\n",
       "    }\n",
       "\n",
       "    .dataframe tbody tr th {\n",
       "        vertical-align: top;\n",
       "    }\n",
       "\n",
       "    .dataframe thead th {\n",
       "        text-align: right;\n",
       "    }\n",
       "</style>\n",
       "<table border=\"1\" class=\"dataframe\">\n",
       "  <thead>\n",
       "    <tr style=\"text-align: right;\">\n",
       "      <th></th>\n",
       "      <th>carat</th>\n",
       "      <th>cut</th>\n",
       "      <th>color</th>\n",
       "      <th>clarity</th>\n",
       "      <th>depth</th>\n",
       "      <th>table</th>\n",
       "      <th>x</th>\n",
       "      <th>y</th>\n",
       "      <th>z</th>\n",
       "    </tr>\n",
       "  </thead>\n",
       "  <tbody>\n",
       "    <tr>\n",
       "      <th>0</th>\n",
       "      <td>0.006237</td>\n",
       "      <td>1.00</td>\n",
       "      <td>0.166667</td>\n",
       "      <td>0.285714</td>\n",
       "      <td>0.513889</td>\n",
       "      <td>0.230769</td>\n",
       "      <td>0.367784</td>\n",
       "      <td>0.067572</td>\n",
       "      <td>0.076415</td>\n",
       "    </tr>\n",
       "    <tr>\n",
       "      <th>1</th>\n",
       "      <td>0.002079</td>\n",
       "      <td>0.75</td>\n",
       "      <td>0.166667</td>\n",
       "      <td>0.000000</td>\n",
       "      <td>0.466667</td>\n",
       "      <td>0.346154</td>\n",
       "      <td>0.362197</td>\n",
       "      <td>0.065195</td>\n",
       "      <td>0.072642</td>\n",
       "    </tr>\n",
       "    <tr>\n",
       "      <th>2</th>\n",
       "      <td>0.006237</td>\n",
       "      <td>0.25</td>\n",
       "      <td>0.166667</td>\n",
       "      <td>0.428571</td>\n",
       "      <td>0.386111</td>\n",
       "      <td>0.423077</td>\n",
       "      <td>0.377095</td>\n",
       "      <td>0.069100</td>\n",
       "      <td>0.072642</td>\n",
       "    </tr>\n",
       "    <tr>\n",
       "      <th>3</th>\n",
       "      <td>0.018711</td>\n",
       "      <td>0.75</td>\n",
       "      <td>0.833333</td>\n",
       "      <td>0.142857</td>\n",
       "      <td>0.538889</td>\n",
       "      <td>0.288462</td>\n",
       "      <td>0.391061</td>\n",
       "      <td>0.071817</td>\n",
       "      <td>0.082704</td>\n",
       "    </tr>\n",
       "    <tr>\n",
       "      <th>4</th>\n",
       "      <td>0.022869</td>\n",
       "      <td>0.25</td>\n",
       "      <td>1.000000</td>\n",
       "      <td>0.285714</td>\n",
       "      <td>0.563889</td>\n",
       "      <td>0.288462</td>\n",
       "      <td>0.404097</td>\n",
       "      <td>0.073854</td>\n",
       "      <td>0.086478</td>\n",
       "    </tr>\n",
       "  </tbody>\n",
       "</table>\n",
       "</div>"
      ],
      "text/plain": [
       "      carat   cut     color   clarity     depth     table         x         y  \\\n",
       "0  0.006237  1.00  0.166667  0.285714  0.513889  0.230769  0.367784  0.067572   \n",
       "1  0.002079  0.75  0.166667  0.000000  0.466667  0.346154  0.362197  0.065195   \n",
       "2  0.006237  0.25  0.166667  0.428571  0.386111  0.423077  0.377095  0.069100   \n",
       "3  0.018711  0.75  0.833333  0.142857  0.538889  0.288462  0.391061  0.071817   \n",
       "4  0.022869  0.25  1.000000  0.285714  0.563889  0.288462  0.404097  0.073854   \n",
       "\n",
       "          z  \n",
       "0  0.076415  \n",
       "1  0.072642  \n",
       "2  0.072642  \n",
       "3  0.082704  \n",
       "4  0.086478  "
      ]
     },
     "execution_count": 44,
     "metadata": {},
     "output_type": "execute_result"
    }
   ],
   "source": [
    "x.head()"
   ]
  },
  {
   "cell_type": "code",
   "execution_count": 45,
   "metadata": {},
   "outputs": [],
   "source": [
    "#on a normalisé tous les données"
   ]
  },
  {
   "cell_type": "code",
   "execution_count": 46,
   "metadata": {},
   "outputs": [],
   "source": [
    "#on va maintenant essayer quelques modéles"
   ]
  },
  {
   "cell_type": "code",
   "execution_count": 47,
   "metadata": {},
   "outputs": [],
   "source": [
    "x_train ,x_test , y_train,y_test = train_test_split(x,y,test_size = 0.3 ,random_state=42)"
   ]
  },
  {
   "cell_type": "code",
   "execution_count": 48,
   "metadata": {},
   "outputs": [],
   "source": [
    "#model1"
   ]
  },
  {
   "cell_type": "code",
   "execution_count": 49,
   "metadata": {},
   "outputs": [],
   "source": [
    "from sklearn.ensemble import RandomForestRegressor"
   ]
  },
  {
   "cell_type": "code",
   "execution_count": 50,
   "metadata": {},
   "outputs": [],
   "source": [
    "clf = RandomForestRegressor(max_depth = 10 ,random_state=17)"
   ]
  },
  {
   "cell_type": "code",
   "execution_count": 51,
   "metadata": {},
   "outputs": [
    {
     "data": {
      "text/plain": [
       "RandomForestRegressor(bootstrap=True, ccp_alpha=0.0, criterion='mse',\n",
       "                      max_depth=10, max_features='auto', max_leaf_nodes=None,\n",
       "                      max_samples=None, min_impurity_decrease=0.0,\n",
       "                      min_impurity_split=None, min_samples_leaf=1,\n",
       "                      min_samples_split=2, min_weight_fraction_leaf=0.0,\n",
       "                      n_estimators=100, n_jobs=None, oob_score=False,\n",
       "                      random_state=17, verbose=0, warm_start=False)"
      ]
     },
     "execution_count": 51,
     "metadata": {},
     "output_type": "execute_result"
    }
   ],
   "source": [
    "clf.fit(x_train,y_train)"
   ]
  },
  {
   "cell_type": "code",
   "execution_count": 52,
   "metadata": {},
   "outputs": [],
   "source": [
    "y_pred = clf.predict(x_test)"
   ]
  },
  {
   "cell_type": "code",
   "execution_count": 53,
   "metadata": {},
   "outputs": [],
   "source": [
    "from sklearn.metrics import accuracy_score"
   ]
  },
  {
   "cell_type": "code",
   "execution_count": 55,
   "metadata": {},
   "outputs": [
    {
     "data": {
      "text/plain": [
       "array([  546.54932587,  2549.61551334,  1104.81389705, ...,\n",
       "       13126.61233175,  3445.77846451,  1284.25568441])"
      ]
     },
     "execution_count": 55,
     "metadata": {},
     "output_type": "execute_result"
    }
   ],
   "source": [
    "y_pred"
   ]
  },
  {
   "cell_type": "code",
   "execution_count": 56,
   "metadata": {},
   "outputs": [
    {
     "data": {
      "text/plain": [
       "1388       559\n",
       "50052     2201\n",
       "41645     1238\n",
       "42377     1304\n",
       "17244     6901\n",
       "         ...  \n",
       "29577      705\n",
       "12564     5278\n",
       "24786    13157\n",
       "1332      2960\n",
       "42527     1323\n",
       "Name: price, Length: 16182, dtype: int64"
      ]
     },
     "execution_count": 56,
     "metadata": {},
     "output_type": "execute_result"
    }
   ],
   "source": [
    "y_test "
   ]
  },
  {
   "cell_type": "code",
   "execution_count": 57,
   "metadata": {},
   "outputs": [
    {
     "data": {
      "text/plain": [
       "numpy.ndarray"
      ]
     },
     "execution_count": 57,
     "metadata": {},
     "output_type": "execute_result"
    }
   ],
   "source": [
    "type(y_pred)"
   ]
  },
  {
   "cell_type": "code",
   "execution_count": 58,
   "metadata": {},
   "outputs": [
    {
     "data": {
      "text/plain": [
       "pandas.core.series.Series"
      ]
     },
     "execution_count": 58,
     "metadata": {},
     "output_type": "execute_result"
    }
   ],
   "source": [
    "type(y_test)"
   ]
  },
  {
   "cell_type": "code",
   "execution_count": 60,
   "metadata": {},
   "outputs": [],
   "source": [
    "#on a un probleme de regression donc on peut utiliser : MSE , r2_score ,RMSE"
   ]
  },
  {
   "cell_type": "code",
   "execution_count": 61,
   "metadata": {},
   "outputs": [],
   "source": [
    "from sklearn.metrics import r2_score"
   ]
  },
  {
   "cell_type": "code",
   "execution_count": 62,
   "metadata": {},
   "outputs": [
    {
     "data": {
      "text/plain": [
       "0.9760555243556625"
      ]
     },
     "execution_count": 62,
     "metadata": {},
     "output_type": "execute_result"
    }
   ],
   "source": [
    "r2_score(y_pred,y_test)"
   ]
  },
  {
   "cell_type": "code",
   "execution_count": 63,
   "metadata": {},
   "outputs": [],
   "source": [
    "#parfait c'est un trés bon score"
   ]
  },
  {
   "cell_type": "code",
   "execution_count": 64,
   "metadata": {},
   "outputs": [],
   "source": [
    "#on va aussi calculer MSE et RMSE"
   ]
  },
  {
   "cell_type": "code",
   "execution_count": 67,
   "metadata": {},
   "outputs": [],
   "source": [
    "from sklearn.metrics import mean_squared_error as MSE"
   ]
  },
  {
   "cell_type": "code",
   "execution_count": 69,
   "metadata": {},
   "outputs": [],
   "source": [
    "from sklearn.metrics import average_precision_score as APS"
   ]
  },
  {
   "cell_type": "code",
   "execution_count": 70,
   "metadata": {},
   "outputs": [
    {
     "data": {
      "text/plain": [
       "365515.8490751282"
      ]
     },
     "execution_count": 70,
     "metadata": {},
     "output_type": "execute_result"
    }
   ],
   "source": [
    "MSE(y_pred,y_test)"
   ]
  },
  {
   "cell_type": "code",
   "execution_count": 72,
   "metadata": {},
   "outputs": [],
   "source": [
    "#model2"
   ]
  },
  {
   "cell_type": "code",
   "execution_count": 74,
   "metadata": {},
   "outputs": [],
   "source": [
    "from sklearn.tree import DecisionTreeRegressor"
   ]
  },
  {
   "cell_type": "code",
   "execution_count": 75,
   "metadata": {},
   "outputs": [],
   "source": [
    "dtr = DecisionTreeRegressor(criterion='mse',max_depth=10,random_state=17)"
   ]
  },
  {
   "cell_type": "code",
   "execution_count": 76,
   "metadata": {},
   "outputs": [
    {
     "data": {
      "text/plain": [
       "DecisionTreeRegressor(ccp_alpha=0.0, criterion='mse', max_depth=10,\n",
       "                      max_features=None, max_leaf_nodes=None,\n",
       "                      min_impurity_decrease=0.0, min_impurity_split=None,\n",
       "                      min_samples_leaf=1, min_samples_split=2,\n",
       "                      min_weight_fraction_leaf=0.0, presort='deprecated',\n",
       "                      random_state=17, splitter='best')"
      ]
     },
     "execution_count": 76,
     "metadata": {},
     "output_type": "execute_result"
    }
   ],
   "source": [
    "dtr.fit(x_train,y_train)"
   ]
  },
  {
   "cell_type": "code",
   "execution_count": 77,
   "metadata": {},
   "outputs": [],
   "source": [
    "y_pred = dtr.predict(x_test)"
   ]
  },
  {
   "cell_type": "code",
   "execution_count": 78,
   "metadata": {},
   "outputs": [
    {
     "data": {
      "text/plain": [
       "0.9712043994350885"
      ]
     },
     "execution_count": 78,
     "metadata": {},
     "output_type": "execute_result"
    }
   ],
   "source": [
    "r2_score(y_pred,y_test)"
   ]
  },
  {
   "cell_type": "code",
   "execution_count": 79,
   "metadata": {},
   "outputs": [],
   "source": [
    "#trés bien"
   ]
  },
  {
   "cell_type": "code",
   "execution_count": 80,
   "metadata": {},
   "outputs": [],
   "source": [
    "from sklearn.linear_model import LinearRegression"
   ]
  },
  {
   "cell_type": "code",
   "execution_count": 81,
   "metadata": {},
   "outputs": [],
   "source": [
    "lr =LinearRegression()"
   ]
  },
  {
   "cell_type": "code",
   "execution_count": 82,
   "metadata": {},
   "outputs": [
    {
     "data": {
      "text/plain": [
       "LinearRegression(copy_X=True, fit_intercept=True, n_jobs=None, normalize=False)"
      ]
     },
     "execution_count": 82,
     "metadata": {},
     "output_type": "execute_result"
    }
   ],
   "source": [
    "lr.fit(x_train,y_train)"
   ]
  },
  {
   "cell_type": "code",
   "execution_count": 83,
   "metadata": {},
   "outputs": [],
   "source": [
    "y_pred = dtr.predict(x_test)"
   ]
  },
  {
   "cell_type": "code",
   "execution_count": 84,
   "metadata": {},
   "outputs": [
    {
     "data": {
      "text/plain": [
       "0.9712043994350885"
      ]
     },
     "execution_count": 84,
     "metadata": {},
     "output_type": "execute_result"
    }
   ],
   "source": [
    "r2_score(y_pred,y_test)"
   ]
  },
  {
   "cell_type": "code",
   "execution_count": 85,
   "metadata": {},
   "outputs": [],
   "source": [
    "#OK c'est terminé"
   ]
  },
  {
   "cell_type": "code",
   "execution_count": null,
   "metadata": {},
   "outputs": [],
   "source": []
  }
 ],
 "metadata": {
  "kernelspec": {
   "display_name": "Python 3",
   "language": "python",
   "name": "python3"
  },
  "language_info": {
   "codemirror_mode": {
    "name": "ipython",
    "version": 3
   },
   "file_extension": ".py",
   "mimetype": "text/x-python",
   "name": "python",
   "nbconvert_exporter": "python",
   "pygments_lexer": "ipython3",
   "version": "3.7.6"
  }
 },
 "nbformat": 4,
 "nbformat_minor": 4
}
